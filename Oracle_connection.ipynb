{
 "cells": [
  {
   "cell_type": "code",
   "execution_count": 1,
   "id": "691a1580",
   "metadata": {},
   "outputs": [
    {
     "ename": "ModuleNotFoundError",
     "evalue": "No module named 'cx_Oracle'",
     "output_type": "error",
     "traceback": [
      "\u001b[1;31m---------------------------------------------------------------------------\u001b[0m",
      "\u001b[1;31mModuleNotFoundError\u001b[0m                       Traceback (most recent call last)",
      "Cell \u001b[1;32mIn[1], line 2\u001b[0m\n\u001b[0;32m      1\u001b[0m \u001b[38;5;66;03m#!pip install cx_Oracle\u001b[39;00m\n\u001b[1;32m----> 2\u001b[0m \u001b[38;5;28;01mimport\u001b[39;00m \u001b[38;5;21;01mcx_Oracle\u001b[39;00m\n\u001b[0;32m      3\u001b[0m \u001b[38;5;28;01mimport\u001b[39;00m \u001b[38;5;21;01mpandas\u001b[39;00m \u001b[38;5;28;01mas\u001b[39;00m \u001b[38;5;21;01mpd\u001b[39;00m\n\u001b[0;32m      4\u001b[0m \u001b[38;5;66;03m# import db_config\u001b[39;00m\n\u001b[0;32m      5\u001b[0m \n\u001b[0;32m      6\u001b[0m \u001b[38;5;66;03m# con = cx_Oracle.connect(db_config.user, db_config.pw, db_config.dsn)\u001b[39;00m\n",
      "\u001b[1;31mModuleNotFoundError\u001b[0m: No module named 'cx_Oracle'"
     ]
    }
   ],
   "source": [
    "#!pip install cx_Oracle\n",
    "import cx_Oracle\n",
    "import pandas as pd\n",
    "# import db_config\n",
    "\n",
    "# con = cx_Oracle.connect(db_config.user, db_config.pw, db_config.dsn)\n",
    "con = cx_Oracle.connect('BFUSER/bfuser@10.100.76.101:1521/BFL2')\n",
    "\n",
    "\n",
    "cur = con.cursor()\n",
    "cur.execute(\"SELECT * FROM T_BF_TEST_BURDEN_DETAILS\")\n",
    "res = cur.fetchall()\n",
    "print(pd.DataFrame(res))\n",
    "#for row in res:\n",
    " #   print(pd.DataFrame(row))\n",
    "\n",
    "cur.close()\n",
    "con.close()"
   ]
  },
  {
   "cell_type": "code",
   "execution_count": 10,
   "id": "cb9b4c66",
   "metadata": {},
   "outputs": [
    {
     "name": "stdout",
     "output_type": "stream",
     "text": [
      "         0     1\n",
      "0     0.03  0.92\n",
      "1     0.03  0.92\n",
      "2     0.03  0.92\n",
      "3     0.03  0.92\n",
      "4     0.03  0.92\n",
      "...    ...   ...\n",
      "3440  0.04  0.65\n",
      "3441  0.03  1.25\n",
      "3442  0.05  0.80\n",
      "3443  0.04  0.79\n",
      "3444  0.03  1.16\n",
      "\n",
      "[3445 rows x 2 columns]\n"
     ]
    }
   ],
   "source": [
    "import cx_Oracle\n",
    "import pandas as pd\n",
    "# import db_config\n",
    "\n",
    "# con = cx_Oracle.connect(db_config.user, db_config.pw, db_config.dsn)\n",
    "con = cx_Oracle.connect('BFUSER/bfuser@10.100.76.101:1521/BFL2')\n",
    "\n",
    "\n",
    "cur = con.cursor()\n",
    "cur.execute(\"SELECT MN_PER,SI_PER FROM T_MODEL_TRAINING\")\n",
    "res = cur.fetchall()\n",
    "print(pd.DataFrame(res))\n",
    "#for row in res:\n",
    " #   print(pd.DataFrame(row))\n",
    "\n",
    "cur.close()\n",
    "con.close()"
   ]
  },
  {
   "cell_type": "code",
   "execution_count": 19,
   "id": "57ce5829",
   "metadata": {},
   "outputs": [
    {
     "ename": "SyntaxError",
     "evalue": "unterminated string literal (detected at line 30) (1364695347.py, line 30)",
     "output_type": "error",
     "traceback": [
      "\u001b[1;36m  Cell \u001b[1;32mIn[19], line 30\u001b[1;36m\u001b[0m\n\u001b[1;33m    'UPPER_DIFF_PR', 'LOWER_DIFF_PR', 'TOTAL_DIFF_PR', 'STACK_PRESSURE', 'COKE_KG', 'ASH_KG', 'SINTER_KG', 'LUMP_KG,\u001b[0m\n\u001b[1;37m                                                                                                           ^\u001b[0m\n\u001b[1;31mSyntaxError\u001b[0m\u001b[1;31m:\u001b[0m unterminated string literal (detected at line 30)\n"
     ]
    }
   ],
   "source": [
    "import cx_Oracle\n",
    "import pandas as pd\n",
    "# import db_config\n",
    "\n",
    "# con = cx_Oracle.connect(db_config.user, db_config.pw, db_config.dsn)\n",
    "conn = cx_Oracle.connect('BFUSER/bfuser@10.100.76.101:1521/BFL2')\n",
    "lsSelAllTrainParam = 'SELECT SI_PER,MN_PER ,P_PER, S_PER,TI_PER,AL2O3_PER, CAO_PER,' \n",
    "lsSelAllTrainParam += 'FEO_PER, FE2O3_PER, K2O_PER, MGO_PER, MNO_PER, SIO2_PER, TIO2_PER, SLAG_S_PER,'\n",
    "lsSelAllTrainParam += 'BASICITY, TOTAL_B, PREV_CAST_DURATION, CAST_DURATION,   HMPROD_RATE, HM_TEMPERATURE, PREV_GUTKO_TIME,GUTKO_TIME,' \n",
    "lsSelAllTrainParam += 'SLAG_DELAY_TIME, SIO2_BOSH_SLAG, AL2O3_BOSH_SLAG, MGO_BOSH_SLAG, MNO_BOSH_SLAG, FEO_BOSH_SLAG, FE2O3_BOSH_SLAG, S_BOSH_SLAG,' \n",
    "lsSelAllTrainParam += 'TIO2_BOSH_SLAG, K20_BOSH_SLAG, B2_BOSH_SLAG, B3_BOSH_SLAG, B4_BOSH_SLAG, HOT_BLAST_FLOW, HOT_BLAST_PRESS, HOT_BLAST_TEMP,' \n",
    "lsSelAllTrainParam += 'O2_ENRICHMENT, STEAM_INJECTION, PCI_KGTHM, PCI_KGPERMIN, UPPERK,LOWERK, MIDDLEK, TOTALK, SOLUTION_LOSS,'\n",
    "lsSelAllTrainParam += 'DIRECT_REDUCTION, ABT_CENTRAL, ABT_PERIPHERAL, ABT_INTERMEDIATE, UPTAKE_TEMP, UPTAKE_PRESS, ETACO, TOPGAS_CO,'\n",
    "lsSelAllTrainParam += 'TOPGAS_CO2, TOPGAS_H2, BOSH_BELLY_TEMP, BOSH_BELLY_PRESS, HEARTH_TEMP, DESCENT_RATE, HUMIDITY, RAFT,'\n",
    "lsSelAllTrainParam += 'UPPER_DIFF_PR, LOWER_DIFF_PR, TOTAL_DIFF_PR, STACK_PRESSURE, COKE_KG, ASH_KG, SINTER_KG, LUMP_KG,'\n",
    "lsSelAllTrainParam += 'SCRAP_KG, MNO_KG, LIME_KG, FE2O3_KG, FEO_KG, FE_KG, HM_KG, SILICA_KG,'\n",
    "lsSelAllTrainParam += 'CAO_KG, ALUMINA_KG, MAGNESIA_KG, MNOXIDE_KG, SL_VOL_KG, B2, B3, B4 FROM T_MODEL_TRAINING'\n",
    "#lsSelAllTrainParam += lsSchemaName + '.' + 'T_MODEL_TRAINING'\n",
    "pointer = conn.cursor()\n",
    "pointer.execute(lsSelAllTrainParam)\n",
    "rows=pointer.fetchall()\n",
    "df=pd.DataFrame(rows,_column=['SI_PER','MN_PER' ,'P_PER', 'S_PER','TI_PER','AL2O3_PER','CAO_PER', \n",
    "                              'FEO_PER', 'FE2O3_PER', 'K2O_PER', 'MGO_PER', 'MNO_PER', 'SIO2_PER', 'TIO2_PER','SLAG_S_PER',\n",
    "'BASICITY', 'TOTAL_B', 'PREV_CAST_DURATION', 'CAST_DURATION','HMPROD_RATE', 'HM_TEMPERATURE', 'PREV_GUTKO_TIME','GUTKO_TIME', \n",
    "'SLAG_DELAY_TIME', 'SIO2_BOSH_SLAG', 'AL2O3_BOSH_SLAG', 'MGO_BOSH_SLAG', 'MNO_BOSH_SLAG', 'FEO_BOSH_SLAG', 'FE2O3_BOSH_SLAG', 'S_BOSH_SLAG', \n",
    "'TIO2_BOSH_SLAG', 'K20_BOSH_SLAG', 'B2_BOSH_SLAG', 'B3_BOSH_SLAG', 'B4_BOSH_SLAG', 'HOT_BLAST_FLOW', 'HOT_BLAST_PRESS', 'HOT_BLAST_TEMP',\n",
    "'O2_ENRICHMENT', 'STEAM_INJECTION', 'PCI_KGTHM', 'PCI_KGPERMIN', 'UPPERK,LOWERK', 'MIDDLEK', 'TOTALK', 'SOLUTION_LOSS',\n",
    "'DIRECT_REDUCTION', 'ABT_CENTRAL', 'ABT_PERIPHERAL', 'ABT_INTERMEDIATE', 'UPTAKE_TEMP', 'UPTAKE_PRESS', 'ETACO, TOPGAS_CO',\n",
    "'TOPGAS_CO2', 'TOPGAS_H2', 'BOSH_BELLY_TEMP', 'BOSH_BELLY_PRESS', 'HEARTH_TEMP', 'DESCENT_RATE', 'HUMIDITY, RAFT',\n",
    "'UPPER_DIFF_PR', 'LOWER_DIFF_PR', 'TOTAL_DIFF_PR', 'STACK_PRESSURE', 'COKE_KG', 'ASH_KG', 'SINTER_KG', 'LUMP_KG,\n",
    "'SCRAP_KG', 'MNO_KG', 'LIME_KG', 'FE2O3_KG', 'FEO_KG', 'FE_KG', 'HM_KG', 'SILICA_KG',\n",
    "'CAO_KG', 'ALUMINA_KG', 'MAGNESIA_KG', 'MNOXIDE_KG', 'SL_VOL_KG', 'B2', 'B3', 'B4'])\n",
    "print(df)\n",
    "print(df.shape)\n",
    "#for row in res:\n",
    " #   print(pd.DataFrame(row))\n",
    "\n",
    "pointer.close()\n",
    "conn.close()\n"
   ]
  },
  {
   "cell_type": "code",
   "execution_count": 18,
   "id": "56603fd8",
   "metadata": {},
   "outputs": [
    {
     "name": "stdout",
     "output_type": "stream",
     "text": [
      "           0        1                   2     3      4                   5  \\\n",
      "0        7.0     35.0 2022-04-02 05:40:01  0.67  18206 2022-04-02 07:38:33   \n",
      "1        9.0     36.0 2022-04-02 05:50:04  0.66  14690 2022-04-02 07:43:56   \n",
      "2       10.0     52.0 2022-04-02 08:30:05  0.96  24027 2022-04-02 10:28:59   \n",
      "3       11.0     59.0 2022-04-02 09:40:01  0.75  14691 2022-04-02 11:29:23   \n",
      "4       13.0     71.0 2022-04-02 11:40:01  0.67  14692 2022-04-02 13:33:14   \n",
      "...      ...      ...                 ...   ...    ...                 ...   \n",
      "3919  3946.0  31904.0 2023-09-24 03:40:02  1.19  22283 2023-09-24 05:21:33   \n",
      "3920  3947.0  31916.0 2023-09-24 05:40:02  1.34  22284 2023-09-24 07:25:21   \n",
      "3921  3963.0  32326.0 2023-09-27 02:00:01  1.05  22299 2023-09-27 04:04:07   \n",
      "3922  3981.0  34584.0 2023-10-12 18:30:01  3.14  22315 2023-10-12 20:15:35   \n",
      "3923  4008.0  35226.0 2023-10-17 07:50:01  0.56  22344 2023-10-17 09:58:59   \n",
      "\n",
      "         6  \n",
      "0     0.75  \n",
      "1     0.80  \n",
      "2     0.87  \n",
      "3     0.99  \n",
      "4     0.95  \n",
      "...    ...  \n",
      "3919  1.22  \n",
      "3920  1.30  \n",
      "3921  1.05  \n",
      "3922  2.05  \n",
      "3923  0.56  \n",
      "\n",
      "[3924 rows x 7 columns]\n"
     ]
    }
   ],
   "source": [
    "import cx_Oracle\n",
    "import pandas as pd\n",
    "# import db_config\n",
    "\n",
    "# con = cx_Oracle.connect(db_config.user, db_config.pw, db_config.dsn)\n",
    "con = cx_Oracle.connect('BFUSER/bfuser@10.100.76.101:1521/BFL2')\n",
    "\n",
    "\n",
    "cur = con.cursor()\n",
    "cur.execute(\"SELECT * FROM T_MODEL_OUTPUT_VALIDATION_DSP\")\n",
    "res = cur.fetchall()\n",
    "print(pd.DataFrame(res))\n",
    "#for row in res:\n",
    " #   print(pd.DataFrame(row))\n",
    "\n",
    "cur.close()\n",
    "con.close()"
   ]
  },
  {
   "cell_type": "code",
   "execution_count": null,
   "id": "12928423",
   "metadata": {},
   "outputs": [],
   "source": []
  }
 ],
 "metadata": {
  "kernelspec": {
   "display_name": "Python 3 (ipykernel)",
   "language": "python",
   "name": "python3"
  },
  "language_info": {
   "codemirror_mode": {
    "name": "ipython",
    "version": 3
   },
   "file_extension": ".py",
   "mimetype": "text/x-python",
   "name": "python",
   "nbconvert_exporter": "python",
   "pygments_lexer": "ipython3",
   "version": "3.11.5"
  }
 },
 "nbformat": 4,
 "nbformat_minor": 5
}
